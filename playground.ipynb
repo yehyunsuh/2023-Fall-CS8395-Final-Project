{
 "cells": [
  {
   "cell_type": "code",
   "execution_count": null,
   "id": "70bf9b48-460c-4bc0-bda5-693e55ae3809",
   "metadata": {},
   "outputs": [],
   "source": [
    "import pandas as pd\n",
    "from torch.utils.data import DataLoader\n",
    "\n",
    "from src.datasets import UnpairedDataset\n",
    "from src.models import CVAE_CNN\n",
    "from src.model_trainers import train_unpaired\n"
   ]
  },
  {
   "cell_type": "code",
   "execution_count": null,
   "id": "df745f86-787b-4e1e-a777-1b894194ee1c",
   "metadata": {},
   "outputs": [],
   "source": [
    "cvae = CVAE_CNN()\n",
    "df = pd.read_csv('data/data.csv')\n",
    "train_dataset = UnpairedDataset(df)\n",
    "train_loader = DataLoader(train_dataset, batch_size=8, shuffle=True)\n",
    "args = {'epochs': 100, 'lr': 1e-4}\n",
    "train_unpaired(cvae, train_loader, 'cpu', **args)"
   ]
  },
  {
   "cell_type": "code",
   "execution_count": null,
   "id": "99c8baef-4806-4a6f-85c5-4332a59e533a",
   "metadata": {},
   "outputs": [],
   "source": []
  }
 ],
 "metadata": {
  "kernelspec": {
   "display_name": "cs-8395",
   "language": "python",
   "name": "cs-8395"
  },
  "language_info": {
   "codemirror_mode": {
    "name": "ipython",
    "version": 3
   },
   "file_extension": ".py",
   "mimetype": "text/x-python",
   "name": "python",
   "nbconvert_exporter": "python",
   "pygments_lexer": "ipython3",
   "version": "3.8.18"
  }
 },
 "nbformat": 4,
 "nbformat_minor": 5
}
