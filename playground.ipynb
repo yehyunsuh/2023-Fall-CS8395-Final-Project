{
 "cells": [
  {
   "cell_type": "code",
   "execution_count": 1,
   "id": "70bf9b48-460c-4bc0-bda5-693e55ae3809",
   "metadata": {},
   "outputs": [],
   "source": [
    "import pandas as pd\n",
    "from torch.utils.data import DataLoader\n",
    "\n",
    "from src.datasets import UnpairedDataset\n",
    "from src.models import CVAE_CNN\n",
    "from src.model_trainers import train_unpaired\n"
   ]
  },
  {
   "cell_type": "code",
   "execution_count": null,
   "id": "df745f86-787b-4e1e-a777-1b894194ee1c",
   "metadata": {},
   "outputs": [
    {
     "name": "stdout",
     "output_type": "stream",
     "text": [
      "\n",
      "Running Epoch # 0\n"
     ]
    },
    {
     "name": "stderr",
     "output_type": "stream",
     "text": [
      "100%|███████████████████████████████████████████████████████████████████████████████████████████████████████████████████████████████████████████████████████████████████████████████████████████████████████████████| 19/19 [00:53<00:00,  2.80s/it]\n"
     ]
    },
    {
     "name": "stdout",
     "output_type": "stream",
     "text": [
      "\n",
      "Running Epoch # 1\n"
     ]
    },
    {
     "name": "stderr",
     "output_type": "stream",
     "text": [
      "100%|████████████████████████████████████████████████████████████████████████████████████████████████████████████████████████████████████████████████████████████████████| 19/19 [00:48<00:00,  2.55s/it]\n"
     ]
    },
    {
     "name": "stdout",
     "output_type": "stream",
     "text": [
      "\n",
      "Running Epoch # 2\n"
     ]
    },
    {
     "name": "stderr",
     "output_type": "stream",
     "text": [
      "100%|████████████████████████████████████████████████████████████████████████████████████████████████████████████████████████████████████████████████████████████████████| 19/19 [00:46<00:00,  2.45s/it]\n"
     ]
    },
    {
     "name": "stdout",
     "output_type": "stream",
     "text": [
      "\n",
      "Running Epoch # 3\n"
     ]
    },
    {
     "name": "stderr",
     "output_type": "stream",
     "text": [
      "100%|████████████████████████████████████████████████████████████████████████████████████████████████████████████████████████████████████████████████████████████████████| 19/19 [00:43<00:00,  2.32s/it]\n"
     ]
    },
    {
     "name": "stdout",
     "output_type": "stream",
     "text": [
      "\n",
      "Running Epoch # 4\n"
     ]
    },
    {
     "name": "stderr",
     "output_type": "stream",
     "text": [
      "100%|████████████████████████████████████████████████████████████████████████████████████████████████████████████████████████████████████████████████████████████████████| 19/19 [00:42<00:00,  2.22s/it]\n"
     ]
    },
    {
     "name": "stdout",
     "output_type": "stream",
     "text": [
      "\n",
      "Running Epoch # 5\n"
     ]
    },
    {
     "name": "stderr",
     "output_type": "stream",
     "text": [
      "100%|████████████████████████████████████████████████████████████████████████████████████████████████████████████████████████████████████████████████████████████████████| 19/19 [00:41<00:00,  2.20s/it]\n"
     ]
    },
    {
     "name": "stdout",
     "output_type": "stream",
     "text": [
      "\n",
      "Running Epoch # 6\n"
     ]
    },
    {
     "name": "stderr",
     "output_type": "stream",
     "text": [
      "100%|████████████████████████████████████████████████████████████████████████████████████████████████████████████████████████████████████████████████████████████████████| 19/19 [00:37<00:00,  1.95s/it]\n"
     ]
    },
    {
     "name": "stdout",
     "output_type": "stream",
     "text": [
      "\n",
      "Running Epoch # 7\n"
     ]
    },
    {
     "name": "stderr",
     "output_type": "stream",
     "text": [
      "100%|████████████████████████████████████████████████████████████████████████████████████████████████████████████████████████████████████████████████████████████████████| 19/19 [00:32<00:00,  1.70s/it]\n"
     ]
    },
    {
     "name": "stdout",
     "output_type": "stream",
     "text": [
      "\n",
      "Running Epoch # 8\n"
     ]
    },
    {
     "name": "stderr",
     "output_type": "stream",
     "text": [
      "100%|████████████████████████████████████████████████████████████████████████████████████████████████████████████████████████████████████████████████████████████████████| 19/19 [00:24<00:00,  1.31s/it]\n"
     ]
    },
    {
     "name": "stdout",
     "output_type": "stream",
     "text": [
      "\n",
      "Running Epoch # 9\n"
     ]
    },
    {
     "name": "stderr",
     "output_type": "stream",
     "text": [
      "100%|████████████████████████████████████████████████████████████████████████████████████████████████████████████████████████████████████████████████████████████████████| 19/19 [00:19<00:00,  1.03s/it]\n"
     ]
    },
    {
     "name": "stdout",
     "output_type": "stream",
     "text": [
      "\n",
      "Running Epoch # 10\n"
     ]
    },
    {
     "name": "stderr",
     "output_type": "stream",
     "text": [
      "100%|████████████████████████████████████████████████████████████████████████████████████████████████████████████████████████████████████████████████████████████████████| 19/19 [00:21<00:00,  1.14s/it]\n"
     ]
    },
    {
     "name": "stdout",
     "output_type": "stream",
     "text": [
      "\n",
      "Running Epoch # 11\n"
     ]
    },
    {
     "name": "stderr",
     "output_type": "stream",
     "text": [
      "100%|████████████████████████████████████████████████████████████████████████████████████████████████████████████████████████████████████████████████████████████████████| 19/19 [00:21<00:00,  1.12s/it]\n"
     ]
    },
    {
     "name": "stdout",
     "output_type": "stream",
     "text": [
      "\n",
      "Running Epoch # 12\n"
     ]
    },
    {
     "name": "stderr",
     "output_type": "stream",
     "text": [
      "100%|████████████████████████████████████████████████████████████████████████████████████████████████████████████████████████████████████████████████████████████████████| 19/19 [00:19<00:00,  1.05s/it]\n"
     ]
    },
    {
     "name": "stdout",
     "output_type": "stream",
     "text": [
      "\n",
      "Running Epoch # 13\n"
     ]
    },
    {
     "name": "stderr",
     "output_type": "stream",
     "text": [
      "100%|████████████████████████████████████████████████████████████████████████████████████████████████████████████████████████████████████████████████████████████████████| 19/19 [00:17<00:00,  1.10it/s]\n"
     ]
    },
    {
     "name": "stdout",
     "output_type": "stream",
     "text": [
      "\n",
      "Running Epoch # 14\n"
     ]
    },
    {
     "name": "stderr",
     "output_type": "stream",
     "text": [
      "100%|████████████████████████████████████████████████████████████████████████████████████████████████████████████████████████████████████████████████████████████████████| 19/19 [00:15<00:00,  1.23it/s]\n"
     ]
    },
    {
     "name": "stdout",
     "output_type": "stream",
     "text": [
      "\n",
      "Running Epoch # 15\n"
     ]
    },
    {
     "name": "stderr",
     "output_type": "stream",
     "text": [
      " 47%|██████████████████████████████████████████████████████████████████████████████▏                                                                                      | 9/19 [00:07<00:08,  1.18it/s]"
     ]
    }
   ],
   "source": [
    "cvae = CVAE_CNN()\n",
    "df = pd.read_csv('data/data.csv')\n",
    "train_dataset = UnpairedDataset(df)\n",
    "train_loader = DataLoader(train_dataset, batch_size=8, shuffle=True)\n",
    "args = {'epochs': 100, 'lr': 1e-4}\n",
    "train_unpaired(cvae, train_loader, 'cpu', **args)"
   ]
  },
  {
   "cell_type": "code",
   "execution_count": 5,
   "id": "5f55795b-38ad-4acc-8698-1499d695c4c7",
   "metadata": {},
   "outputs": [
    {
     "data": {
      "text/html": [
       "<div>\n",
       "<style scoped>\n",
       "    .dataframe tbody tr th:only-of-type {\n",
       "        vertical-align: middle;\n",
       "    }\n",
       "\n",
       "    .dataframe tbody tr th {\n",
       "        vertical-align: top;\n",
       "    }\n",
       "\n",
       "    .dataframe thead th {\n",
       "        text-align: right;\n",
       "    }\n",
       "</style>\n",
       "<table border=\"1\" class=\"dataframe\">\n",
       "  <thead>\n",
       "    <tr style=\"text-align: right;\">\n",
       "      <th></th>\n",
       "      <th>path</th>\n",
       "      <th>surgery</th>\n",
       "      <th>filename</th>\n",
       "      <th>patient</th>\n",
       "      <th>side</th>\n",
       "    </tr>\n",
       "  </thead>\n",
       "  <tbody>\n",
       "    <tr>\n",
       "      <th>0</th>\n",
       "      <td>data/pre/0000F183_AADD8F2B_AA8FE25D_0000EE4D_E...</td>\n",
       "      <td>pre</td>\n",
       "      <td>0000F183_AADD8F2B_AA8FE25D_0000EE4D_EE841795_l...</td>\n",
       "      <td>0000F183</td>\n",
       "      <td>left</td>\n",
       "    </tr>\n",
       "    <tr>\n",
       "      <th>1</th>\n",
       "      <td>data/pre/0000820B_AADB1E96_AA734EBA_0000CB72_E...</td>\n",
       "      <td>pre</td>\n",
       "      <td>0000820B_AADB1E96_AA734EBA_0000CB72_EE925294_l...</td>\n",
       "      <td>0000820B</td>\n",
       "      <td>left</td>\n",
       "    </tr>\n",
       "    <tr>\n",
       "      <th>2</th>\n",
       "      <td>data/pre/0000FA20_AA4F94FD_AAF61C8A_00000CF9_E...</td>\n",
       "      <td>pre</td>\n",
       "      <td>0000FA20_AA4F94FD_AAF61C8A_00000CF9_EE2764D6_r...</td>\n",
       "      <td>0000FA20</td>\n",
       "      <td>right</td>\n",
       "    </tr>\n",
       "    <tr>\n",
       "      <th>3</th>\n",
       "      <td>data/pre/0000C476_AA9BCFE7_AAE6BFD5_00006116_E...</td>\n",
       "      <td>pre</td>\n",
       "      <td>0000C476_AA9BCFE7_AAE6BFD5_00006116_EE393D91_l...</td>\n",
       "      <td>0000C476</td>\n",
       "      <td>left</td>\n",
       "    </tr>\n",
       "    <tr>\n",
       "      <th>4</th>\n",
       "      <td>data/pre/0000E84B_AAD03C79_AADC33A6_00002B3F_E...</td>\n",
       "      <td>pre</td>\n",
       "      <td>0000E84B_AAD03C79_AADC33A6_00002B3F_EE66DCFC_r...</td>\n",
       "      <td>0000E84B</td>\n",
       "      <td>right</td>\n",
       "    </tr>\n",
       "    <tr>\n",
       "      <th>...</th>\n",
       "      <td>...</td>\n",
       "      <td>...</td>\n",
       "      <td>...</td>\n",
       "      <td>...</td>\n",
       "      <td>...</td>\n",
       "    </tr>\n",
       "    <tr>\n",
       "      <th>147</th>\n",
       "      <td>data/post/00008B03_AACC8D8F_AA07A40B_0000650B_...</td>\n",
       "      <td>post</td>\n",
       "      <td>00008B03_AACC8D8F_AA07A40B_0000650B_EE76F56A_r...</td>\n",
       "      <td>00008B03</td>\n",
       "      <td>right</td>\n",
       "    </tr>\n",
       "    <tr>\n",
       "      <th>148</th>\n",
       "      <td>data/post/0000F590_000087C5_AA34BA04_AA52D092_...</td>\n",
       "      <td>post</td>\n",
       "      <td>0000F590_000087C5_AA34BA04_AA52D092_0000640A_E...</td>\n",
       "      <td>0000F590</td>\n",
       "      <td>left</td>\n",
       "    </tr>\n",
       "    <tr>\n",
       "      <th>149</th>\n",
       "      <td>data/post/0000820B_AA05848D_AA3BEEBF_0000E50B_...</td>\n",
       "      <td>post</td>\n",
       "      <td>0000820B_AA05848D_AA3BEEBF_0000E50B_EEE31B63_l...</td>\n",
       "      <td>0000820B</td>\n",
       "      <td>left</td>\n",
       "    </tr>\n",
       "    <tr>\n",
       "      <th>150</th>\n",
       "      <td>data/post/0000F8BA_AA8CECD3_AA23201A_0000168F_...</td>\n",
       "      <td>post</td>\n",
       "      <td>0000F8BA_AA8CECD3_AA23201A_0000168F_EE85A53F_r...</td>\n",
       "      <td>0000F8BA</td>\n",
       "      <td>right</td>\n",
       "    </tr>\n",
       "    <tr>\n",
       "      <th>151</th>\n",
       "      <td>data/post/000074F5_AA9145DE_AAB84778_0000BBDC_...</td>\n",
       "      <td>post</td>\n",
       "      <td>000074F5_AA9145DE_AAB84778_0000BBDC_EEA33488_r...</td>\n",
       "      <td>000074F5</td>\n",
       "      <td>right</td>\n",
       "    </tr>\n",
       "  </tbody>\n",
       "</table>\n",
       "<p>152 rows × 5 columns</p>\n",
       "</div>"
      ],
      "text/plain": [
       "                                                  path surgery  \\\n",
       "0    data/pre/0000F183_AADD8F2B_AA8FE25D_0000EE4D_E...     pre   \n",
       "1    data/pre/0000820B_AADB1E96_AA734EBA_0000CB72_E...     pre   \n",
       "2    data/pre/0000FA20_AA4F94FD_AAF61C8A_00000CF9_E...     pre   \n",
       "3    data/pre/0000C476_AA9BCFE7_AAE6BFD5_00006116_E...     pre   \n",
       "4    data/pre/0000E84B_AAD03C79_AADC33A6_00002B3F_E...     pre   \n",
       "..                                                 ...     ...   \n",
       "147  data/post/00008B03_AACC8D8F_AA07A40B_0000650B_...    post   \n",
       "148  data/post/0000F590_000087C5_AA34BA04_AA52D092_...    post   \n",
       "149  data/post/0000820B_AA05848D_AA3BEEBF_0000E50B_...    post   \n",
       "150  data/post/0000F8BA_AA8CECD3_AA23201A_0000168F_...    post   \n",
       "151  data/post/000074F5_AA9145DE_AAB84778_0000BBDC_...    post   \n",
       "\n",
       "                                              filename   patient   side  \n",
       "0    0000F183_AADD8F2B_AA8FE25D_0000EE4D_EE841795_l...  0000F183   left  \n",
       "1    0000820B_AADB1E96_AA734EBA_0000CB72_EE925294_l...  0000820B   left  \n",
       "2    0000FA20_AA4F94FD_AAF61C8A_00000CF9_EE2764D6_r...  0000FA20  right  \n",
       "3    0000C476_AA9BCFE7_AAE6BFD5_00006116_EE393D91_l...  0000C476   left  \n",
       "4    0000E84B_AAD03C79_AADC33A6_00002B3F_EE66DCFC_r...  0000E84B  right  \n",
       "..                                                 ...       ...    ...  \n",
       "147  00008B03_AACC8D8F_AA07A40B_0000650B_EE76F56A_r...  00008B03  right  \n",
       "148  0000F590_000087C5_AA34BA04_AA52D092_0000640A_E...  0000F590   left  \n",
       "149  0000820B_AA05848D_AA3BEEBF_0000E50B_EEE31B63_l...  0000820B   left  \n",
       "150  0000F8BA_AA8CECD3_AA23201A_0000168F_EE85A53F_r...  0000F8BA  right  \n",
       "151  000074F5_AA9145DE_AAB84778_0000BBDC_EEA33488_r...  000074F5  right  \n",
       "\n",
       "[152 rows x 5 columns]"
      ]
     },
     "execution_count": 5,
     "metadata": {},
     "output_type": "execute_result"
    }
   ],
   "source": [
    "df"
   ]
  },
  {
   "cell_type": "code",
   "execution_count": 17,
   "id": "40e00af7-f5e3-4610-99c2-5ebc4d2a0ca7",
   "metadata": {},
   "outputs": [],
   "source": []
  },
  {
   "cell_type": "code",
   "execution_count": 21,
   "id": "2f398e20-eedf-4b60-bc87-d6bce3d7353d",
   "metadata": {},
   "outputs": [
    {
     "data": {
      "text/html": [
       "<div>\n",
       "<style scoped>\n",
       "    .dataframe tbody tr th:only-of-type {\n",
       "        vertical-align: middle;\n",
       "    }\n",
       "\n",
       "    .dataframe tbody tr th {\n",
       "        vertical-align: top;\n",
       "    }\n",
       "\n",
       "    .dataframe thead th {\n",
       "        text-align: right;\n",
       "    }\n",
       "</style>\n",
       "<table border=\"1\" class=\"dataframe\">\n",
       "  <thead>\n",
       "    <tr style=\"text-align: right;\">\n",
       "      <th></th>\n",
       "      <th>path_pre</th>\n",
       "      <th>filename_pre</th>\n",
       "      <th>patient</th>\n",
       "      <th>side</th>\n",
       "      <th>path_post</th>\n",
       "      <th>filename_post</th>\n",
       "    </tr>\n",
       "  </thead>\n",
       "  <tbody>\n",
       "    <tr>\n",
       "      <th>0</th>\n",
       "      <td>data/pre/0000F183_AADD8F2B_AA8FE25D_0000EE4D_E...</td>\n",
       "      <td>0000F183_AADD8F2B_AA8FE25D_0000EE4D_EE841795_l...</td>\n",
       "      <td>0000F183</td>\n",
       "      <td>left</td>\n",
       "      <td>data/post/0000F183_AA248CD7_AAC209BE_00009027_...</td>\n",
       "      <td>0000F183_AA248CD7_AAC209BE_00009027_EEBA57FA_l...</td>\n",
       "    </tr>\n",
       "    <tr>\n",
       "      <th>1</th>\n",
       "      <td>data/pre/0000820B_AADB1E96_AA734EBA_0000CB72_E...</td>\n",
       "      <td>0000820B_AADB1E96_AA734EBA_0000CB72_EE925294_l...</td>\n",
       "      <td>0000820B</td>\n",
       "      <td>left</td>\n",
       "      <td>data/post/0000820B_AA05848D_AA3BEEBF_0000E50B_...</td>\n",
       "      <td>0000820B_AA05848D_AA3BEEBF_0000E50B_EEE31B63_l...</td>\n",
       "    </tr>\n",
       "    <tr>\n",
       "      <th>2</th>\n",
       "      <td>data/pre/0000FA20_AA4F94FD_AAF61C8A_00000CF9_E...</td>\n",
       "      <td>0000FA20_AA4F94FD_AAF61C8A_00000CF9_EE2764D6_r...</td>\n",
       "      <td>0000FA20</td>\n",
       "      <td>right</td>\n",
       "      <td>data/post/0000FA20_AAC44C4C_AA77BD3A_00000ECC_...</td>\n",
       "      <td>0000FA20_AAC44C4C_AA77BD3A_00000ECC_EEFFB3F9_r...</td>\n",
       "    </tr>\n",
       "    <tr>\n",
       "      <th>3</th>\n",
       "      <td>data/pre/0000C476_AA9BCFE7_AAE6BFD5_00006116_E...</td>\n",
       "      <td>0000C476_AA9BCFE7_AAE6BFD5_00006116_EE393D91_l...</td>\n",
       "      <td>0000C476</td>\n",
       "      <td>left</td>\n",
       "      <td>data/post/0000C476_AA70C924_AA9FEA68_0000139B_...</td>\n",
       "      <td>0000C476_AA70C924_AA9FEA68_0000139B_EEEEAEF4_l...</td>\n",
       "    </tr>\n",
       "    <tr>\n",
       "      <th>4</th>\n",
       "      <td>data/pre/0000E84B_AAD03C79_AADC33A6_00002B3F_E...</td>\n",
       "      <td>0000E84B_AAD03C79_AADC33A6_00002B3F_EE66DCFC_r...</td>\n",
       "      <td>0000E84B</td>\n",
       "      <td>right</td>\n",
       "      <td>data/post/0000E84B_AA5FA2C9_AA0FBE5E_0000838F_...</td>\n",
       "      <td>0000E84B_AA5FA2C9_AA0FBE5E_0000838F_EEDE60E0_r...</td>\n",
       "    </tr>\n",
       "    <tr>\n",
       "      <th>...</th>\n",
       "      <td>...</td>\n",
       "      <td>...</td>\n",
       "      <td>...</td>\n",
       "      <td>...</td>\n",
       "      <td>...</td>\n",
       "      <td>...</td>\n",
       "    </tr>\n",
       "    <tr>\n",
       "      <th>71</th>\n",
       "      <td>data/pre/0000F8BA_AACA0B4B_AA7FD914_0000AF43_E...</td>\n",
       "      <td>0000F8BA_AACA0B4B_AA7FD914_0000AF43_EE2A03B8_r...</td>\n",
       "      <td>0000F8BA</td>\n",
       "      <td>right</td>\n",
       "      <td>data/post/0000F8BA_AA8CECD3_AA23201A_0000168F_...</td>\n",
       "      <td>0000F8BA_AA8CECD3_AA23201A_0000168F_EE85A53F_r...</td>\n",
       "    </tr>\n",
       "    <tr>\n",
       "      <th>72</th>\n",
       "      <td>data/pre/00006591_AA817B3B_AAD3359D_000045BC_E...</td>\n",
       "      <td>00006591_AA817B3B_AAD3359D_000045BC_EEC11F73_l...</td>\n",
       "      <td>00006591</td>\n",
       "      <td>left</td>\n",
       "      <td>data/post/00006591_AA77DC25_AA116997_0000B96A_...</td>\n",
       "      <td>00006591_AA77DC25_AA116997_0000B96A_EEFF3FCF_l...</td>\n",
       "    </tr>\n",
       "    <tr>\n",
       "      <th>73</th>\n",
       "      <td>data/pre/0000A904_AA893688_AAE418B1_0000660F_E...</td>\n",
       "      <td>0000A904_AA893688_AAE418B1_0000660F_EEEA0E81_l...</td>\n",
       "      <td>0000A904</td>\n",
       "      <td>left</td>\n",
       "      <td>data/post/0000A904_AA1262FD_AA021F50_0000A7D2_...</td>\n",
       "      <td>0000A904_AA1262FD_AA021F50_0000A7D2_EED55833_l...</td>\n",
       "    </tr>\n",
       "    <tr>\n",
       "      <th>74</th>\n",
       "      <td>data/pre/00000192_AA7407F4_AA4BA8C6_000092DE_E...</td>\n",
       "      <td>00000192_AA7407F4_AA4BA8C6_000092DE_EEC4A113_l...</td>\n",
       "      <td>00000192</td>\n",
       "      <td>left</td>\n",
       "      <td>data/post/00000192_AAE59DBC_AAC2237C_000040E3_...</td>\n",
       "      <td>00000192_AAE59DBC_AAC2237C_000040E3_EE2A39F6_l...</td>\n",
       "    </tr>\n",
       "    <tr>\n",
       "      <th>75</th>\n",
       "      <td>data/pre/0000878C_AA4384AE_AA66B6F5_000063BB_E...</td>\n",
       "      <td>0000878C_AA4384AE_AA66B6F5_000063BB_EEF6F96A_l...</td>\n",
       "      <td>0000878C</td>\n",
       "      <td>left</td>\n",
       "      <td>data/post/0000878C_AA83ED46_AA493F81_00003DDD_...</td>\n",
       "      <td>0000878C_AA83ED46_AA493F81_00003DDD_EE6179F2_l...</td>\n",
       "    </tr>\n",
       "  </tbody>\n",
       "</table>\n",
       "<p>76 rows × 6 columns</p>\n",
       "</div>"
      ],
      "text/plain": [
       "                                             path_pre  \\\n",
       "0   data/pre/0000F183_AADD8F2B_AA8FE25D_0000EE4D_E...   \n",
       "1   data/pre/0000820B_AADB1E96_AA734EBA_0000CB72_E...   \n",
       "2   data/pre/0000FA20_AA4F94FD_AAF61C8A_00000CF9_E...   \n",
       "3   data/pre/0000C476_AA9BCFE7_AAE6BFD5_00006116_E...   \n",
       "4   data/pre/0000E84B_AAD03C79_AADC33A6_00002B3F_E...   \n",
       "..                                                ...   \n",
       "71  data/pre/0000F8BA_AACA0B4B_AA7FD914_0000AF43_E...   \n",
       "72  data/pre/00006591_AA817B3B_AAD3359D_000045BC_E...   \n",
       "73  data/pre/0000A904_AA893688_AAE418B1_0000660F_E...   \n",
       "74  data/pre/00000192_AA7407F4_AA4BA8C6_000092DE_E...   \n",
       "75  data/pre/0000878C_AA4384AE_AA66B6F5_000063BB_E...   \n",
       "\n",
       "                                         filename_pre   patient   side  \\\n",
       "0   0000F183_AADD8F2B_AA8FE25D_0000EE4D_EE841795_l...  0000F183   left   \n",
       "1   0000820B_AADB1E96_AA734EBA_0000CB72_EE925294_l...  0000820B   left   \n",
       "2   0000FA20_AA4F94FD_AAF61C8A_00000CF9_EE2764D6_r...  0000FA20  right   \n",
       "3   0000C476_AA9BCFE7_AAE6BFD5_00006116_EE393D91_l...  0000C476   left   \n",
       "4   0000E84B_AAD03C79_AADC33A6_00002B3F_EE66DCFC_r...  0000E84B  right   \n",
       "..                                                ...       ...    ...   \n",
       "71  0000F8BA_AACA0B4B_AA7FD914_0000AF43_EE2A03B8_r...  0000F8BA  right   \n",
       "72  00006591_AA817B3B_AAD3359D_000045BC_EEC11F73_l...  00006591   left   \n",
       "73  0000A904_AA893688_AAE418B1_0000660F_EEEA0E81_l...  0000A904   left   \n",
       "74  00000192_AA7407F4_AA4BA8C6_000092DE_EEC4A113_l...  00000192   left   \n",
       "75  0000878C_AA4384AE_AA66B6F5_000063BB_EEF6F96A_l...  0000878C   left   \n",
       "\n",
       "                                            path_post  \\\n",
       "0   data/post/0000F183_AA248CD7_AAC209BE_00009027_...   \n",
       "1   data/post/0000820B_AA05848D_AA3BEEBF_0000E50B_...   \n",
       "2   data/post/0000FA20_AAC44C4C_AA77BD3A_00000ECC_...   \n",
       "3   data/post/0000C476_AA70C924_AA9FEA68_0000139B_...   \n",
       "4   data/post/0000E84B_AA5FA2C9_AA0FBE5E_0000838F_...   \n",
       "..                                                ...   \n",
       "71  data/post/0000F8BA_AA8CECD3_AA23201A_0000168F_...   \n",
       "72  data/post/00006591_AA77DC25_AA116997_0000B96A_...   \n",
       "73  data/post/0000A904_AA1262FD_AA021F50_0000A7D2_...   \n",
       "74  data/post/00000192_AAE59DBC_AAC2237C_000040E3_...   \n",
       "75  data/post/0000878C_AA83ED46_AA493F81_00003DDD_...   \n",
       "\n",
       "                                        filename_post  \n",
       "0   0000F183_AA248CD7_AAC209BE_00009027_EEBA57FA_l...  \n",
       "1   0000820B_AA05848D_AA3BEEBF_0000E50B_EEE31B63_l...  \n",
       "2   0000FA20_AAC44C4C_AA77BD3A_00000ECC_EEFFB3F9_r...  \n",
       "3   0000C476_AA70C924_AA9FEA68_0000139B_EEEEAEF4_l...  \n",
       "4   0000E84B_AA5FA2C9_AA0FBE5E_0000838F_EEDE60E0_r...  \n",
       "..                                                ...  \n",
       "71  0000F8BA_AA8CECD3_AA23201A_0000168F_EE85A53F_r...  \n",
       "72  00006591_AA77DC25_AA116997_0000B96A_EEFF3FCF_l...  \n",
       "73  0000A904_AA1262FD_AA021F50_0000A7D2_EED55833_l...  \n",
       "74  00000192_AAE59DBC_AAC2237C_000040E3_EE2A39F6_l...  \n",
       "75  0000878C_AA83ED46_AA493F81_00003DDD_EE6179F2_l...  \n",
       "\n",
       "[76 rows x 6 columns]"
      ]
     },
     "execution_count": 21,
     "metadata": {},
     "output_type": "execute_result"
    }
   ],
   "source": []
  },
  {
   "cell_type": "code",
   "execution_count": null,
   "id": "fddf3399-b4a4-4d53-b745-70e5d98d54d6",
   "metadata": {},
   "outputs": [],
   "source": []
  }
 ],
 "metadata": {
  "kernelspec": {
   "display_name": "cs-8395",
   "language": "python",
   "name": "cs-8395"
  },
  "language_info": {
   "codemirror_mode": {
    "name": "ipython",
    "version": 3
   },
   "file_extension": ".py",
   "mimetype": "text/x-python",
   "name": "python",
   "nbconvert_exporter": "python",
   "pygments_lexer": "ipython3",
   "version": "3.8.18"
  }
 },
 "nbformat": 4,
 "nbformat_minor": 5
}
